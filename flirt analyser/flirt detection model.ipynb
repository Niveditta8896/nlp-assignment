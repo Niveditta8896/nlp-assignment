{
 "cells": [
  {
   "cell_type": "code",
   "execution_count": 1,
   "id": "c74f4263",
   "metadata": {},
   "outputs": [],
   "source": [
    "import pandas as pd\n",
    "import numpy as np\n"
   ]
  },
  {
   "cell_type": "code",
   "execution_count": 2,
   "id": "5ad43f4b",
   "metadata": {},
   "outputs": [],
   "source": [
    "dataset=pd.read_csv(\"Flirt_Prediction_Dataset.csv\",header=None,on_bad_lines='skip',encoding=\"utf8\")\n",
    "   \n"
   ]
  },
  {
   "cell_type": "code",
   "execution_count": 3,
   "id": "7c034054",
   "metadata": {},
   "outputs": [],
   "source": [
    "dataset.columns=[\"messages\",\"flirt_class\"]"
   ]
  },
  {
   "cell_type": "code",
   "execution_count": 4,
   "id": "396bd113",
   "metadata": {},
   "outputs": [
    {
     "data": {
      "text/plain": [
       "<bound method Series.unique of 0     label\n",
       "1         0\n",
       "2         1\n",
       "3         1\n",
       "4         0\n",
       "      ...  \n",
       "95        0\n",
       "96        1\n",
       "97        1\n",
       "98        1\n",
       "99        1\n",
       "Name: flirt_class, Length: 100, dtype: object>"
      ]
     },
     "execution_count": 4,
     "metadata": {},
     "output_type": "execute_result"
    }
   ],
   "source": [
    "dataset[\"flirt_class\"].unique"
   ]
  },
  {
   "cell_type": "code",
   "execution_count": 5,
   "id": "c6c3164d",
   "metadata": {},
   "outputs": [
    {
     "data": {
      "text/html": [
       "<div>\n",
       "<style scoped>\n",
       "    .dataframe tbody tr th:only-of-type {\n",
       "        vertical-align: middle;\n",
       "    }\n",
       "\n",
       "    .dataframe tbody tr th {\n",
       "        vertical-align: top;\n",
       "    }\n",
       "\n",
       "    .dataframe thead th {\n",
       "        text-align: right;\n",
       "    }\n",
       "</style>\n",
       "<table border=\"1\" class=\"dataframe\">\n",
       "  <thead>\n",
       "    <tr style=\"text-align: right;\">\n",
       "      <th></th>\n",
       "      <th>messages</th>\n",
       "      <th>flirt_class</th>\n",
       "    </tr>\n",
       "  </thead>\n",
       "  <tbody>\n",
       "    <tr>\n",
       "      <th>0</th>\n",
       "      <td>message</td>\n",
       "      <td>label</td>\n",
       "    </tr>\n",
       "    <tr>\n",
       "      <th>1</th>\n",
       "      <td>Are we still on for tomorrow?</td>\n",
       "      <td>0</td>\n",
       "    </tr>\n",
       "    <tr>\n",
       "      <th>2</th>\n",
       "      <td>You're more fun than my favorite song.</td>\n",
       "      <td>1</td>\n",
       "    </tr>\n",
       "    <tr>\n",
       "      <th>3</th>\n",
       "      <td>I had a dream about you last night.</td>\n",
       "      <td>1</td>\n",
       "    </tr>\n",
       "    <tr>\n",
       "      <th>4</th>\n",
       "      <td>Need to catch up on some sleep.</td>\n",
       "      <td>0</td>\n",
       "    </tr>\n",
       "    <tr>\n",
       "      <th>...</th>\n",
       "      <td>...</td>\n",
       "      <td>...</td>\n",
       "    </tr>\n",
       "    <tr>\n",
       "      <th>95</th>\n",
       "      <td>Please let me know when you’re free.</td>\n",
       "      <td>0</td>\n",
       "    </tr>\n",
       "    <tr>\n",
       "      <th>96</th>\n",
       "      <td>You always know just what to say.</td>\n",
       "      <td>1</td>\n",
       "    </tr>\n",
       "    <tr>\n",
       "      <th>97</th>\n",
       "      <td>You make my heart skip a beat.</td>\n",
       "      <td>1</td>\n",
       "    </tr>\n",
       "    <tr>\n",
       "      <th>98</th>\n",
       "      <td>You’re exactly my type.</td>\n",
       "      <td>1</td>\n",
       "    </tr>\n",
       "    <tr>\n",
       "      <th>99</th>\n",
       "      <td>Are you always this charming?</td>\n",
       "      <td>1</td>\n",
       "    </tr>\n",
       "  </tbody>\n",
       "</table>\n",
       "<p>100 rows × 2 columns</p>\n",
       "</div>"
      ],
      "text/plain": [
       "                                  messages flirt_class\n",
       "0                                  message       label\n",
       "1            Are we still on for tomorrow?           0\n",
       "2   You're more fun than my favorite song.           1\n",
       "3      I had a dream about you last night.           1\n",
       "4          Need to catch up on some sleep.           0\n",
       "..                                     ...         ...\n",
       "95    Please let me know when you’re free.           0\n",
       "96       You always know just what to say.           1\n",
       "97          You make my heart skip a beat.           1\n",
       "98                 You’re exactly my type.           1\n",
       "99           Are you always this charming?           1\n",
       "\n",
       "[100 rows x 2 columns]"
      ]
     },
     "execution_count": 5,
     "metadata": {},
     "output_type": "execute_result"
    }
   ],
   "source": [
    "dataset"
   ]
  },
  {
   "cell_type": "code",
   "execution_count": 6,
   "id": "73670483",
   "metadata": {},
   "outputs": [],
   "source": [
    "dataset=dataset.drop(0,axis=0)"
   ]
  },
  {
   "cell_type": "code",
   "execution_count": 7,
   "id": "d7077e3c",
   "metadata": {},
   "outputs": [
    {
     "data": {
      "text/plain": [
       "dtype('O')"
      ]
     },
     "execution_count": 7,
     "metadata": {},
     "output_type": "execute_result"
    }
   ],
   "source": [
    "dataset[\"flirt_class\"].dtype"
   ]
  },
  {
   "cell_type": "code",
   "execution_count": 8,
   "id": "ef0b6893",
   "metadata": {},
   "outputs": [],
   "source": [
    "dataset[\"flirt_class\"]=dataset[\"flirt_class\"].astype(\"int64\")"
   ]
  },
  {
   "cell_type": "code",
   "execution_count": 9,
   "id": "b603d72e",
   "metadata": {},
   "outputs": [],
   "source": [
    "from sklearn.feature_extraction.text import CountVectorizer\n",
    "cv=CountVectorizer(stop_words=\"english\",max_df=.95,min_df=2)"
   ]
  },
  {
   "cell_type": "code",
   "execution_count": 10,
   "id": "c6ba3af7",
   "metadata": {},
   "outputs": [],
   "source": [
    "messg_mat=cv.fit_transform(dataset[\"messages\"])"
   ]
  },
  {
   "cell_type": "code",
   "execution_count": 11,
   "id": "51cfac62",
   "metadata": {},
   "outputs": [
    {
     "data": {
      "text/plain": [
       "(99, 39)"
      ]
     },
     "execution_count": 11,
     "metadata": {},
     "output_type": "execute_result"
    }
   ],
   "source": [
    "messg_mat.shape"
   ]
  },
  {
   "cell_type": "code",
   "execution_count": 12,
   "id": "6d8d0e74",
   "metadata": {},
   "outputs": [],
   "source": [
    "\n",
    "independent=messg_mat\n",
    "dependent=dataset[\"flirt_class\"]\n"
   ]
  },
  {
   "cell_type": "code",
   "execution_count": 13,
   "id": "179e1a71",
   "metadata": {},
   "outputs": [],
   "source": [
    "from sklearn.model_selection import train_test_split as ts\n",
    "x_train,x_test,y_train,y_test=ts(independent,dependent,test_size=.2,random_state=42)"
   ]
  },
  {
   "cell_type": "code",
   "execution_count": 14,
   "id": "5828a249",
   "metadata": {},
   "outputs": [
    {
     "data": {
      "text/plain": [
       "50    1\n",
       "71    0\n",
       "69    1\n",
       "16    0\n",
       "40    0\n",
       "     ..\n",
       "61    0\n",
       "72    0\n",
       "15    1\n",
       "93    0\n",
       "52    0\n",
       "Name: flirt_class, Length: 79, dtype: int64"
      ]
     },
     "execution_count": 14,
     "metadata": {},
     "output_type": "execute_result"
    }
   ],
   "source": [
    "y_train"
   ]
  },
  {
   "cell_type": "markdown",
   "id": "19b0e41d",
   "metadata": {},
   "source": [
    "# now lets create models using different classification algorithms"
   ]
  },
  {
   "cell_type": "code",
   "execution_count": 15,
   "id": "fbbca867",
   "metadata": {},
   "outputs": [],
   "source": [
    "# different classification algorithms are logistic regression,naive bayes,knn,svm,decision tree,randomforest,XGBoost / Gradient Boost"
   ]
  },
  {
   "cell_type": "code",
   "execution_count": 16,
   "id": "e4f55d4c",
   "metadata": {},
   "outputs": [],
   "source": [
    "#!pip install xgboost"
   ]
  },
  {
   "cell_type": "code",
   "execution_count": 17,
   "id": "21f335d2",
   "metadata": {},
   "outputs": [],
   "source": [
    "from sklearn.linear_model import LogisticRegression\n",
    "from sklearn.naive_bayes import MultinomialNB\n",
    "from sklearn.neighbors import KNeighborsClassifier\n",
    "from sklearn.svm import SVC\n",
    "from sklearn.tree import DecisionTreeClassifier\n",
    "from sklearn.ensemble import RandomForestClassifier\n",
    "from xgboost import XGBClassifier\n",
    "from sklearn.metrics import classification_report,accuracy_score"
   ]
  },
  {
   "cell_type": "code",
   "execution_count": 18,
   "id": "67aa630b",
   "metadata": {},
   "outputs": [],
   "source": [
    "lg = LogisticRegression(C=0.1, solver='liblinear', max_iter=500, random_state=42)\n",
    "nb = MultinomialNB(alpha=1.0, fit_prior=True, class_prior=None)\n",
    "svc = SVC(C=0.1, kernel='linear', gamma='scale', probability=True, random_state=42)\n",
    "rf = RandomForestClassifier(n_estimators=200, max_depth=20, min_samples_split=5, random_state=42)\n",
    "dt = DecisionTreeClassifier(\n",
    "    criterion='entropy',          # 'entropy' might work better for some text tasks (information gain)\n",
    "    max_depth=5,                  # Decreasing depth to reduce overfitting\n",
    "    min_samples_split=4,          # Minimum samples required to split an internal node\n",
    "    min_samples_leaf=2,           # Minimum samples required at the leaf node\n",
    "    max_features='auto',          # Consider all features for best splitting\n",
    "    random_state=42 )\n",
    "knn = KNeighborsClassifier(n_neighbors=5, weights='distance', algorithm='auto', leaf_size=30)\n",
    "xgb = XGBClassifier(n_estimators=200, max_depth=6, learning_rate=0.05, random_state=42, use_label_encoder=False, eval_metric='logloss')\n"
   ]
  },
  {
   "cell_type": "code",
   "execution_count": 19,
   "id": "23c878bd",
   "metadata": {},
   "outputs": [],
   "source": [
    "\n",
    "acc=[]\n",
    "algorithm=[lg,nb,svc,rf,dt,knn,xgb]\n",
    "def flirtidentif(model,x_train,x_test,y_test):\n",
    "    for model in algorithm:\n",
    "        model.fit(x_train,y_train)\n",
    "        y_pred=model.predict(x_test)\n",
    "        ac_score=accuracy_score(y_pred,y_test)\n",
    "        acc.append(ac_score)\n",
    "    \n",
    "    return model,acc\n",
    "    \n",
    "    "
   ]
  },
  {
   "cell_type": "code",
   "execution_count": 20,
   "id": "22c9d859",
   "metadata": {},
   "outputs": [
    {
     "data": {
      "text/plain": [
       "[0.45, 0.55, 0.35, 0.55, 0.4, 0.5, 0.7]"
      ]
     },
     "execution_count": 20,
     "metadata": {},
     "output_type": "execute_result"
    }
   ],
   "source": [
    "model,acc=flirtidentif(lg,x_train,x_test,y_test)\n",
    "acc"
   ]
  },
  {
   "cell_type": "code",
   "execution_count": 21,
   "id": "65b0987e",
   "metadata": {},
   "outputs": [
    {
     "data": {
      "text/plain": [
       "dtype('int64')"
      ]
     },
     "execution_count": 21,
     "metadata": {},
     "output_type": "execute_result"
    }
   ],
   "source": [
    "dataset[\"flirt_class\"].dtype"
   ]
  },
  {
   "cell_type": "markdown",
   "id": "48692ddf",
   "metadata": {},
   "source": [
    "# lets tabularise these results "
   ]
  },
  {
   "cell_type": "code",
   "execution_count": 22,
   "id": "0de3a670",
   "metadata": {},
   "outputs": [
    {
     "data": {
      "text/html": [
       "<div>\n",
       "<style scoped>\n",
       "    .dataframe tbody tr th:only-of-type {\n",
       "        vertical-align: middle;\n",
       "    }\n",
       "\n",
       "    .dataframe tbody tr th {\n",
       "        vertical-align: top;\n",
       "    }\n",
       "\n",
       "    .dataframe thead th {\n",
       "        text-align: right;\n",
       "    }\n",
       "</style>\n",
       "<table border=\"1\" class=\"dataframe\">\n",
       "  <thead>\n",
       "    <tr style=\"text-align: right;\">\n",
       "      <th></th>\n",
       "      <th>accuracy score</th>\n",
       "    </tr>\n",
       "  </thead>\n",
       "  <tbody>\n",
       "    <tr>\n",
       "      <th>LogisticRegression</th>\n",
       "      <td>NaN</td>\n",
       "    </tr>\n",
       "    <tr>\n",
       "      <th>MultinomialNB</th>\n",
       "      <td>NaN</td>\n",
       "    </tr>\n",
       "    <tr>\n",
       "      <th>KNeighborsClassifier</th>\n",
       "      <td>NaN</td>\n",
       "    </tr>\n",
       "    <tr>\n",
       "      <th>SVC</th>\n",
       "      <td>NaN</td>\n",
       "    </tr>\n",
       "    <tr>\n",
       "      <th>DecisionTreeClassifier</th>\n",
       "      <td>NaN</td>\n",
       "    </tr>\n",
       "    <tr>\n",
       "      <th>RandomForestClassifier</th>\n",
       "      <td>NaN</td>\n",
       "    </tr>\n",
       "    <tr>\n",
       "      <th>XGBClassifier</th>\n",
       "      <td>NaN</td>\n",
       "    </tr>\n",
       "  </tbody>\n",
       "</table>\n",
       "</div>"
      ],
      "text/plain": [
       "                       accuracy score\n",
       "LogisticRegression                NaN\n",
       "MultinomialNB                     NaN\n",
       "KNeighborsClassifier              NaN\n",
       "SVC                               NaN\n",
       "DecisionTreeClassifier            NaN\n",
       "RandomForestClassifier            NaN\n",
       "XGBClassifier                     NaN"
      ]
     },
     "execution_count": 22,
     "metadata": {},
     "output_type": "execute_result"
    }
   ],
   "source": [
    "columns=[\"accuracy score\"]\n",
    "ind_list=[\"LogisticRegression\",\"MultinomialNB\",\"KNeighborsClassifier\",\"SVC\",\"DecisionTreeClassifier\",\"RandomForestClassifier\",\"XGBClassifier\"]\n",
    "acc_table=pd.DataFrame(index=[\"LogisticRegression\",\"MultinomialNB\",\"KNeighborsClassifier\",\"SVC\",\"DecisionTreeClassifier\",\"RandomForestClassifier\",\"XGBClassifier\"],columns=[\"accuracy score\"])\n",
    "\n",
    "acc_table\n",
    "\n",
    "\n"
   ]
  },
  {
   "cell_type": "code",
   "execution_count": 23,
   "id": "2bd2650a",
   "metadata": {},
   "outputs": [
    {
     "data": {
      "text/plain": [
       "[0.45, 0.55, 0.35, 0.55, 0.4, 0.5, 0.7]"
      ]
     },
     "execution_count": 23,
     "metadata": {},
     "output_type": "execute_result"
    }
   ],
   "source": [
    "acc"
   ]
  },
  {
   "cell_type": "code",
   "execution_count": 24,
   "id": "b143aa1f",
   "metadata": {},
   "outputs": [
    {
     "data": {
      "text/plain": [
       "<enumerate at 0x1c03b4d7678>"
      ]
     },
     "execution_count": 24,
     "metadata": {},
     "output_type": "execute_result"
    }
   ],
   "source": [
    "enumerate(ind_list)"
   ]
  },
  {
   "cell_type": "code",
   "execution_count": 25,
   "id": "5f5c8e21",
   "metadata": {},
   "outputs": [],
   "source": [
    "for index,name in enumerate(ind_list):\n",
    "    acc_table.loc[name,columns]=acc[index]\n"
   ]
  },
  {
   "cell_type": "code",
   "execution_count": 26,
   "id": "639198d8",
   "metadata": {},
   "outputs": [
    {
     "data": {
      "text/html": [
       "<div>\n",
       "<style scoped>\n",
       "    .dataframe tbody tr th:only-of-type {\n",
       "        vertical-align: middle;\n",
       "    }\n",
       "\n",
       "    .dataframe tbody tr th {\n",
       "        vertical-align: top;\n",
       "    }\n",
       "\n",
       "    .dataframe thead th {\n",
       "        text-align: right;\n",
       "    }\n",
       "</style>\n",
       "<table border=\"1\" class=\"dataframe\">\n",
       "  <thead>\n",
       "    <tr style=\"text-align: right;\">\n",
       "      <th></th>\n",
       "      <th>accuracy score</th>\n",
       "    </tr>\n",
       "  </thead>\n",
       "  <tbody>\n",
       "    <tr>\n",
       "      <th>LogisticRegression</th>\n",
       "      <td>0.45</td>\n",
       "    </tr>\n",
       "    <tr>\n",
       "      <th>MultinomialNB</th>\n",
       "      <td>0.55</td>\n",
       "    </tr>\n",
       "    <tr>\n",
       "      <th>KNeighborsClassifier</th>\n",
       "      <td>0.35</td>\n",
       "    </tr>\n",
       "    <tr>\n",
       "      <th>SVC</th>\n",
       "      <td>0.55</td>\n",
       "    </tr>\n",
       "    <tr>\n",
       "      <th>DecisionTreeClassifier</th>\n",
       "      <td>0.4</td>\n",
       "    </tr>\n",
       "    <tr>\n",
       "      <th>RandomForestClassifier</th>\n",
       "      <td>0.5</td>\n",
       "    </tr>\n",
       "    <tr>\n",
       "      <th>XGBClassifier</th>\n",
       "      <td>0.7</td>\n",
       "    </tr>\n",
       "  </tbody>\n",
       "</table>\n",
       "</div>"
      ],
      "text/plain": [
       "                       accuracy score\n",
       "LogisticRegression               0.45\n",
       "MultinomialNB                    0.55\n",
       "KNeighborsClassifier             0.35\n",
       "SVC                              0.55\n",
       "DecisionTreeClassifier            0.4\n",
       "RandomForestClassifier            0.5\n",
       "XGBClassifier                     0.7"
      ]
     },
     "execution_count": 26,
     "metadata": {},
     "output_type": "execute_result"
    }
   ],
   "source": [
    "acc_table"
   ]
  },
  {
   "cell_type": "code",
   "execution_count": 27,
   "id": "6869b1d4",
   "metadata": {},
   "outputs": [],
   "source": [
    "import pickle"
   ]
  },
  {
   "cell_type": "code",
   "execution_count": 28,
   "id": "ff497eeb",
   "metadata": {},
   "outputs": [],
   "source": [
    "pickle.dump(cv,open(\"countvectorizer.sav\",\"wb\"))"
   ]
  },
  {
   "cell_type": "code",
   "execution_count": 29,
   "id": "d810ed5f",
   "metadata": {},
   "outputs": [],
   "source": [
    "pickle.dump(rf,open(\"model_rf.sav\",\"wb\"))"
   ]
  },
  {
   "cell_type": "code",
   "execution_count": null,
   "id": "c966b620",
   "metadata": {},
   "outputs": [],
   "source": []
  }
 ],
 "metadata": {
  "kernelspec": {
   "display_name": "Python 3 (ipykernel)",
   "language": "python",
   "name": "python3"
  },
  "language_info": {
   "codemirror_mode": {
    "name": "ipython",
    "version": 3
   },
   "file_extension": ".py",
   "mimetype": "text/x-python",
   "name": "python",
   "nbconvert_exporter": "python",
   "pygments_lexer": "ipython3",
   "version": "3.7.1"
  }
 },
 "nbformat": 4,
 "nbformat_minor": 5
}
