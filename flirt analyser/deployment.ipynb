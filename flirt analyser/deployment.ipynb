{
 "cells": [
  {
   "cell_type": "code",
   "execution_count": 1,
   "id": "1d18afc6",
   "metadata": {},
   "outputs": [],
   "source": [
    "import pickle"
   ]
  },
  {
   "cell_type": "code",
   "execution_count": 8,
   "id": "d3367e8d",
   "metadata": {},
   "outputs": [],
   "source": [
    "cv=pickle.load(open(\"tfvectorizer.sav\",\"rb\"))"
   ]
  },
  {
   "cell_type": "code",
   "execution_count": 9,
   "id": "54d43ed1",
   "metadata": {},
   "outputs": [],
   "source": [
    "model=pickle.load(open(\"model_dt.sav\",\"rb\"))"
   ]
  },
  {
   "cell_type": "code",
   "execution_count": 13,
   "id": "72241550",
   "metadata": {},
   "outputs": [],
   "source": [
    "inpt=[\"My favorite love scene from a book is from 'A Walk to Remember.' The gentle and heartfelt moments between Landon and Jamie, filled with love and tenderness, always make my heart swell with emotion.\"]"
   ]
  },
  {
   "cell_type": "code",
   "execution_count": 14,
   "id": "22a58873",
   "metadata": {},
   "outputs": [],
   "source": [
    "x=cv.transform(inpt)"
   ]
  },
  {
   "cell_type": "code",
   "execution_count": 15,
   "id": "2c21a022",
   "metadata": {},
   "outputs": [
    {
     "data": {
      "text/plain": [
       "array([1], dtype=int64)"
      ]
     },
     "execution_count": 15,
     "metadata": {},
     "output_type": "execute_result"
    }
   ],
   "source": [
    "model.predict(x)"
   ]
  },
  {
   "cell_type": "code",
   "execution_count": null,
   "id": "4e248932",
   "metadata": {},
   "outputs": [],
   "source": []
  }
 ],
 "metadata": {
  "kernelspec": {
   "display_name": "Python 3 (ipykernel)",
   "language": "python",
   "name": "python3"
  },
  "language_info": {
   "codemirror_mode": {
    "name": "ipython",
    "version": 3
   },
   "file_extension": ".py",
   "mimetype": "text/x-python",
   "name": "python",
   "nbconvert_exporter": "python",
   "pygments_lexer": "ipython3",
   "version": "3.7.1"
  }
 },
 "nbformat": 4,
 "nbformat_minor": 5
}
