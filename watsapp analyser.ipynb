{
 "cells": [
  {
   "cell_type": "code",
   "execution_count": 97,
   "id": "f5fc25ca",
   "metadata": {},
   "outputs": [],
   "source": [
    "import pandas as pd\n",
    "import numpy as np\n",
    "data=pd.read_csv(\"new_data.csv\")"
   ]
  },
  {
   "cell_type": "code",
   "execution_count": 98,
   "id": "63462010",
   "metadata": {},
   "outputs": [
    {
     "data": {
      "text/html": [
       "<div>\n",
       "<style scoped>\n",
       "    .dataframe tbody tr th:only-of-type {\n",
       "        vertical-align: middle;\n",
       "    }\n",
       "\n",
       "    .dataframe tbody tr th {\n",
       "        vertical-align: top;\n",
       "    }\n",
       "\n",
       "    .dataframe thead th {\n",
       "        text-align: right;\n",
       "    }\n",
       "</style>\n",
       "<table border=\"1\" class=\"dataframe\">\n",
       "  <thead>\n",
       "    <tr style=\"text-align: right;\">\n",
       "      <th></th>\n",
       "      <th>Unnamed: 0</th>\n",
       "      <th>date</th>\n",
       "      <th>chat</th>\n",
       "      <th>time</th>\n",
       "      <th>messager</th>\n",
       "    </tr>\n",
       "  </thead>\n",
       "  <tbody>\n",
       "    <tr>\n",
       "      <th>0</th>\n",
       "      <td>1</td>\n",
       "      <td>25/10/23</td>\n",
       "      <td>Hi</td>\n",
       "      <td>07:31</td>\n",
       "      <td>NIVEDITTA</td>\n",
       "    </tr>\n",
       "    <tr>\n",
       "      <th>1</th>\n",
       "      <td>2</td>\n",
       "      <td>25/10/23</td>\n",
       "      <td>Anerkennungsberatung des TBB</td>\n",
       "      <td>07:31</td>\n",
       "      <td>NIVEDITTA</td>\n",
       "    </tr>\n",
       "    <tr>\n",
       "      <th>2</th>\n",
       "      <td>5</td>\n",
       "      <td>29/10/23</td>\n",
       "      <td>https://www.google.com/search?q=free+museum+o...</td>\n",
       "      <td>09:17</td>\n",
       "      <td>NIVEDITTA</td>\n",
       "    </tr>\n",
       "    <tr>\n",
       "      <th>3</th>\n",
       "      <td>6</td>\n",
       "      <td>29/10/23</td>\n",
       "      <td>Jewish Museum Berlin</td>\n",
       "      <td>09:29</td>\n",
       "      <td>NIVEDITTA</td>\n",
       "    </tr>\n",
       "    <tr>\n",
       "      <th>4</th>\n",
       "      <td>9</td>\n",
       "      <td>29/10/23</td>\n",
       "      <td>Asian Art Museum</td>\n",
       "      <td>09:40</td>\n",
       "      <td>NIVEDITTA</td>\n",
       "    </tr>\n",
       "    <tr>\n",
       "      <th>...</th>\n",
       "      <td>...</td>\n",
       "      <td>...</td>\n",
       "      <td>...</td>\n",
       "      <td>...</td>\n",
       "      <td>...</td>\n",
       "    </tr>\n",
       "    <tr>\n",
       "      <th>133</th>\n",
       "      <td>361</td>\n",
       "      <td>27/02/25</td>\n",
       "      <td>4165983442925293</td>\n",
       "      <td>21:48</td>\n",
       "      <td>Niveditta German No</td>\n",
       "    </tr>\n",
       "    <tr>\n",
       "      <th>134</th>\n",
       "      <td>362</td>\n",
       "      <td>01/04/25</td>\n",
       "      <td>&lt;Media omitted&gt;</td>\n",
       "      <td>21:17</td>\n",
       "      <td>Niveditta German No</td>\n",
       "    </tr>\n",
       "    <tr>\n",
       "      <th>135</th>\n",
       "      <td>363</td>\n",
       "      <td>02/04/25</td>\n",
       "      <td>&lt;Media omitted&gt;</td>\n",
       "      <td>19:41</td>\n",
       "      <td>Niveditta German No</td>\n",
       "    </tr>\n",
       "    <tr>\n",
       "      <th>136</th>\n",
       "      <td>364</td>\n",
       "      <td>03/04/25</td>\n",
       "      <td>&lt;Media omitted&gt;</td>\n",
       "      <td>05:13</td>\n",
       "      <td>Niveditta German No</td>\n",
       "    </tr>\n",
       "    <tr>\n",
       "      <th>137</th>\n",
       "      <td>365</td>\n",
       "      <td>08/04/25</td>\n",
       "      <td>+4922890243514</td>\n",
       "      <td>10:30</td>\n",
       "      <td>NIVEDITTA</td>\n",
       "    </tr>\n",
       "  </tbody>\n",
       "</table>\n",
       "<p>138 rows × 5 columns</p>\n",
       "</div>"
      ],
      "text/plain": [
       "     Unnamed: 0      date                                               chat  \\\n",
       "0             1  25/10/23                                                 Hi   \n",
       "1             2  25/10/23                       Anerkennungsberatung des TBB   \n",
       "2             5  29/10/23   https://www.google.com/search?q=free+museum+o...   \n",
       "3             6  29/10/23                               Jewish Museum Berlin   \n",
       "4             9  29/10/23                                   Asian Art Museum   \n",
       "..          ...       ...                                                ...   \n",
       "133         361  27/02/25                                   4165983442925293   \n",
       "134         362  01/04/25                                    <Media omitted>   \n",
       "135         363  02/04/25                                    <Media omitted>   \n",
       "136         364  03/04/25                                    <Media omitted>   \n",
       "137         365  08/04/25                                     +4922890243514   \n",
       "\n",
       "        time              messager  \n",
       "0     07:31              NIVEDITTA  \n",
       "1     07:31              NIVEDITTA  \n",
       "2     09:17              NIVEDITTA  \n",
       "3     09:29              NIVEDITTA  \n",
       "4     09:40              NIVEDITTA  \n",
       "..       ...                   ...  \n",
       "133   21:48    Niveditta German No  \n",
       "134   21:17    Niveditta German No  \n",
       "135   19:41    Niveditta German No  \n",
       "136   05:13    Niveditta German No  \n",
       "137   10:30              NIVEDITTA  \n",
       "\n",
       "[138 rows x 5 columns]"
      ]
     },
     "execution_count": 98,
     "metadata": {},
     "output_type": "execute_result"
    }
   ],
   "source": [
    "data"
   ]
  },
  {
   "cell_type": "markdown",
   "id": "372c9d73",
   "metadata": {},
   "source": [
    "# 1 applying flirt detection model on the watsapp chat"
   ]
  },
  {
   "cell_type": "code",
   "execution_count": 66,
   "id": "55c7b320",
   "metadata": {},
   "outputs": [],
   "source": [
    "import pickle\n",
    "tf=pickle.load(open(\"tfvectorizer.sav\",\"rb\"))"
   ]
  },
  {
   "cell_type": "code",
   "execution_count": 4,
   "id": "ce4f0d90",
   "metadata": {},
   "outputs": [],
   "source": [
    "chat_matrix=tf.transform(data[\"chat\"])"
   ]
  },
  {
   "cell_type": "code",
   "execution_count": 5,
   "id": "e5e24ec6",
   "metadata": {},
   "outputs": [],
   "source": [
    "model=pickle.load(open(\"model_dt.sav\",\"rb\"))"
   ]
  },
  {
   "cell_type": "code",
   "execution_count": 6,
   "id": "f97c94dc",
   "metadata": {},
   "outputs": [
    {
     "data": {
      "text/plain": [
       "array([0, 0, 0, 0, 0, 0, 0, 0, 0, 0, 0, 0, 0, 0, 0, 0, 0, 0, 0, 0, 0, 0,\n",
       "       0, 0, 0, 0, 0, 0, 0, 0, 0, 0, 0, 0, 0, 0, 0, 0, 0, 0, 0, 0, 0, 0,\n",
       "       0, 0, 0, 0, 0, 0, 0, 0, 0, 0, 0, 0, 0, 0, 0, 0, 0, 0, 0, 0, 0, 0,\n",
       "       0, 0, 0, 0, 0, 0, 0, 0, 0, 0, 0, 0, 0, 0, 0, 0, 0, 0, 0, 0, 0, 0,\n",
       "       0, 0, 0, 0, 0, 0, 0, 0, 0, 0, 0, 0, 0, 0, 0, 0, 0, 0, 0, 0, 0, 0,\n",
       "       0, 0, 0, 0, 0, 0, 0, 0, 0, 0, 0, 0, 0, 0, 0, 0, 0, 0, 0, 0, 0, 0,\n",
       "       0, 0, 0, 0, 0, 0], dtype=int64)"
      ]
     },
     "execution_count": 6,
     "metadata": {},
     "output_type": "execute_result"
    }
   ],
   "source": [
    "model.predict(chat_matrix)"
   ]
  },
  {
   "cell_type": "markdown",
   "id": "0a48d72f",
   "metadata": {},
   "source": [
    "# 2 finding who is more talkative and less talkative"
   ]
  },
  {
   "cell_type": "code",
   "execution_count": 7,
   "id": "87b42713",
   "metadata": {},
   "outputs": [],
   "source": [
    "msg_count=data[\"messager\"].value_counts()"
   ]
  },
  {
   "cell_type": "code",
   "execution_count": 8,
   "id": "12857152",
   "metadata": {},
   "outputs": [
    {
     "data": {
      "text/plain": [
       "Index([' NIVEDITTA', ' Niveditta German No'], dtype='object')"
      ]
     },
     "execution_count": 8,
     "metadata": {},
     "output_type": "execute_result"
    }
   ],
   "source": [
    "msg_count.index"
   ]
  },
  {
   "cell_type": "code",
   "execution_count": 9,
   "id": "dd12ca03",
   "metadata": {},
   "outputs": [
    {
     "data": {
      "text/plain": [
       "array([124,  14], dtype=int64)"
      ]
     },
     "execution_count": 9,
     "metadata": {},
     "output_type": "execute_result"
    }
   ],
   "source": [
    "msg_count.values"
   ]
  },
  {
   "cell_type": "code",
   "execution_count": 38,
   "id": "354c8481",
   "metadata": {},
   "outputs": [
    {
     "data": {
      "text/plain": [
       "46"
      ]
     },
     "execution_count": 38,
     "metadata": {},
     "output_type": "execute_result"
    }
   ],
   "source": [
    "msg_lt=data[\"chat\"].apply(len)\n",
    "msg_lt.max()"
   ]
  },
  {
   "cell_type": "code",
   "execution_count": 40,
   "id": "773f9d45",
   "metadata": {},
   "outputs": [
    {
     "data": {
      "text/plain": [
       "messager\n",
       " NIVEDITTA              124\n",
       " Niveditta German No     14\n",
       "Name: chat, dtype: int64"
      ]
     },
     "execution_count": 40,
     "metadata": {},
     "output_type": "execute_result"
    }
   ],
   "source": [
    "msg_lt_max=data.groupby(\"messager\")[\"chat\"].apply(len)\n",
    "msg_lt_max"
   ]
  },
  {
   "cell_type": "markdown",
   "id": "bea2ca32",
   "metadata": {},
   "source": [
    "# so from above we can see niveditta has sent max no of messages and the max lent of message sent by niveditta is higher\n",
    "# so she is more talkative"
   ]
  },
  {
   "cell_type": "code",
   "execution_count": 35,
   "id": "06a549f1",
   "metadata": {},
   "outputs": [],
   "source": [
    "import seaborn as sns\n",
    "from matplotlib import pyplot as plt"
   ]
  },
  {
   "cell_type": "code",
   "execution_count": 36,
   "id": "2415d3c1",
   "metadata": {},
   "outputs": [
    {
     "data": {
      "text/plain": [
       "Text(0.5, 1.0, 'measure of talkativeness')"
      ]
     },
     "execution_count": 36,
     "metadata": {},
     "output_type": "execute_result"
    },
    {
     "data": {
      "image/png": "[encoded data removed]",
      "text/plain": [
       "<Figure size 640x480 with 1 Axes>"
      ]
     },
     "metadata": {},
     "output_type": "display_data"
    }
   ],
   "source": [
    "sns.barplot(msg_count,x=msg_count.index,y=msg_count.values)\n",
    "plt.ylabel(\"talk_count\")\n",
    "plt.title(\"measure of talkativeness\")"
   ]
  },
  {
   "cell_type": "markdown",
   "id": "34bcbc08",
   "metadata": {},
   "source": [
    "# 3.Most Active Day, Most Active Time\n"
   ]
  },
  {
   "cell_type": "code",
   "execution_count": 43,
   "id": "62585a0d",
   "metadata": {},
   "outputs": [],
   "source": [
    "max_msg=data[\"date\"].value_counts().max()"
   ]
  },
  {
   "cell_type": "code",
   "execution_count": 44,
   "id": "086e26aa",
   "metadata": {},
   "outputs": [
    {
     "data": {
      "text/plain": [
       "7"
      ]
     },
     "execution_count": 44,
     "metadata": {},
     "output_type": "execute_result"
    }
   ],
   "source": [
    "max_msg"
   ]
  },
  {
   "cell_type": "code",
   "execution_count": 46,
   "id": "8baf3179",
   "metadata": {},
   "outputs": [
    {
     "data": {
      "text/plain": [
       "Index(['04/11/23', '08/02/24', '25/01/24'], dtype='object')"
      ]
     },
     "execution_count": 46,
     "metadata": {},
     "output_type": "execute_result"
    }
   ],
   "source": [
    "active_date=data[\"date\"].value_counts()[data[\"date\"].value_counts()==max_msg]\n",
    "active_date.index"
   ]
  },
  {
   "cell_type": "code",
   "execution_count": 47,
   "id": "5f3075ea",
   "metadata": {},
   "outputs": [
    {
     "data": {
      "text/plain": [
       "([<matplotlib.patches.Wedge at 0x241263a7048>,\n",
       "  <matplotlib.patches.Wedge at 0x24122b76438>,\n",
       "  <matplotlib.patches.Wedge at 0x241263a78d0>],\n",
       " [Text(0.5499999702695115, 0.9526279613277875, '04/11/23'),\n",
       "  Text(-1.0999999999999954, -1.0298943258065002e-07, '08/02/24'),\n",
       "  Text(0.5500001486524352, -0.9526278583383436, '25/01/24')])"
      ]
     },
     "execution_count": 47,
     "metadata": {},
     "output_type": "execute_result"
    },
    {
     "data": {
      "image/png": "[encoded data removed]",
      "text/plain": [
       "<Figure size 640x480 with 1 Axes>"
      ]
     },
     "metadata": {},
     "output_type": "display_data"
    }
   ],
   "source": [
    "plt.pie(active_date,labels=active_date.index)"
   ]
  },
  {
   "cell_type": "markdown",
   "id": "72fc75a9",
   "metadata": {},
   "source": [
    "# now the most active time"
   ]
  },
  {
   "cell_type": "code",
   "execution_count": 67,
   "id": "1baadf04",
   "metadata": {},
   "outputs": [
    {
     "data": {
      "text/plain": [
       "7"
      ]
     },
     "execution_count": 67,
     "metadata": {},
     "output_type": "execute_result"
    }
   ],
   "source": [
    "data[\"time\"].value_counts().max()"
   ]
  },
  {
   "cell_type": "code",
   "execution_count": 70,
   "id": "8ea94563",
   "metadata": {},
   "outputs": [
    {
     "data": {
      "text/plain": [
       "time\n",
       " 00:17     1\n",
       " 00:46     1\n",
       " 03:05     1\n",
       " 05:13     1\n",
       " 06:53     1\n",
       "          ..\n",
       " 23:21     1\n",
       " 23:26     1\n",
       " 23:27     1\n",
       " 23:30     1\n",
       " 23:50     1\n",
       "Name: chat, Length: 120, dtype: int64"
      ]
     },
     "execution_count": 70,
     "metadata": {},
     "output_type": "execute_result"
    }
   ],
   "source": [
    "most_active_time_counts=data.groupby(\"time\")[\"chat\"].count()\n",
    "most_active_time"
   ]
  },
  {
   "cell_type": "code",
   "execution_count": 75,
   "id": "385a2cc7",
   "metadata": {},
   "outputs": [
    {
     "data": {
      "text/plain": [
       "7"
      ]
     },
     "execution_count": 75,
     "metadata": {},
     "output_type": "execute_result"
    }
   ],
   "source": [
    "max_msgs_atthe_time=most_active_time.max()\n",
    "max_msgs_atthe_time"
   ]
  },
  {
   "cell_type": "code",
   "execution_count": 74,
   "id": "e0f8e4af",
   "metadata": {},
   "outputs": [
    {
     "data": {
      "text/plain": [
       "' 15:07 '"
      ]
     },
     "execution_count": 74,
     "metadata": {},
     "output_type": "execute_result"
    }
   ],
   "source": [
    "mst_activ_tim=most_active_time.idxmax()\n",
    "mst_activ_tim"
   ]
  },
  {
   "cell_type": "markdown",
   "id": "690a2892",
   "metadata": {},
   "source": [
    "#  Media count sent by each person\n"
   ]
  },
  {
   "cell_type": "code",
   "execution_count": 99,
   "id": "b82e1c79",
   "metadata": {},
   "outputs": [],
   "source": [
    "data[\"chat\"]=data[\"chat\"].str.strip()"
   ]
  },
  {
   "cell_type": "code",
   "execution_count": 104,
   "id": "b448dc2a",
   "metadata": {},
   "outputs": [],
   "source": [
    "media=data[data[\"chat\"] == \"<Media omitted>\"][\"messager\"].value_counts()"
   ]
  },
  {
   "cell_type": "code",
   "execution_count": 107,
   "id": "babb6cc6",
   "metadata": {},
   "outputs": [
    {
     "data": {
      "text/plain": [
       "Text(0.5, 1.0, 'Media count sent by each person')"
      ]
     },
     "execution_count": 107,
     "metadata": {},
     "output_type": "execute_result"
    },
    {
     "data": {
      "image/png": "[encoded data removed]",
      "text/plain": [
       "<Figure size 640x480 with 1 Axes>"
      ]
     },
     "metadata": {},
     "output_type": "display_data"
    }
   ],
   "source": [
    "sns.barplot(media,x=media.index,y=media.values)\n",
    "plt.ylabel(\"media count\")\n",
    "plt.title(\"Media count sent by each person\")"
   ]
  }
 ],
 "metadata": {
  "kernelspec": {
   "display_name": "Python 3 (ipykernel)",
   "language": "python",
   "name": "python3"
  },
  "language_info": {
   "codemirror_mode": {
    "name": "ipython",
    "version": 3
   },
   "file_extension": ".py",
   "mimetype": "text/x-python",
   "name": "python",
   "nbconvert_exporter": "python",
   "pygments_lexer": "ipython3",
   "version": "3.7.1"
  }
 },
 "nbformat": 4,
 "nbformat_minor": 5
}
